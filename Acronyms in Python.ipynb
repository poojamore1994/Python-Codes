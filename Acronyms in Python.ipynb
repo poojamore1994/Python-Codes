{
 "cells": [
  {
   "cell_type": "markdown",
   "metadata": {},
   "source": [
    "# Creating Abbrevations / Acronyms for the phrase in python\n"
   ]
  },
  {
   "cell_type": "code",
   "execution_count": 7,
   "metadata": {},
   "outputs": [
    {
     "name": "stdout",
     "output_type": "stream",
     "text": [
      "Enter A Phrase:Machine Learning\n",
      "ML\n"
     ]
    }
   ],
   "source": [
    "###You can do this by splitting and indexing to get the first word and then combine it\n",
    "enter_string=str(input(\"Enter A Phrase:\"))\n",
    "text=enter_string.split()\n",
    "a=\"\"\n",
    "for i in text:\n",
    "    a=a+str(i[0].upper())\n",
    "print(a)"
   ]
  },
  {
   "cell_type": "code",
   "execution_count": 8,
   "metadata": {},
   "outputs": [],
   "source": [
    "#In the above code, I am first taking a string user input, \n",
    "#then I am using the split() function in Python for splitting the sentence. \n",
    "#Then I declared a new variable ‘a’ to store the acronym of a phrase."
   ]
  },
  {
   "cell_type": "code",
   "execution_count": null,
   "metadata": {},
   "outputs": [],
   "source": []
  }
 ],
 "metadata": {
  "kernelspec": {
   "display_name": "Python 3",
   "language": "python",
   "name": "python3"
  },
  "language_info": {
   "codemirror_mode": {
    "name": "ipython",
    "version": 3
   },
   "file_extension": ".py",
   "mimetype": "text/x-python",
   "name": "python",
   "nbconvert_exporter": "python",
   "pygments_lexer": "ipython3",
   "version": "3.8.3"
  }
 },
 "nbformat": 4,
 "nbformat_minor": 4
}
